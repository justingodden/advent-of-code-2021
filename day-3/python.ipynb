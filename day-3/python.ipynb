{
 "cells": [
  {
   "cell_type": "markdown",
   "id": "da7007c1-7964-4816-a847-677223b58c7f",
   "metadata": {},
   "source": [
    "## Part 1"
   ]
  },
  {
   "cell_type": "code",
   "execution_count": 1,
   "id": "e15a1ae9-5ca6-4479-8c4f-b25c146cc9b0",
   "metadata": {},
   "outputs": [],
   "source": [
    "with open(\"input.txt\", \"r\", encoding=\"utf-8\") as f:\n",
    "    input = input = f.read().split('\\n')"
   ]
  },
  {
   "cell_type": "code",
   "execution_count": 2,
   "id": "6c2dfc56-6475-479b-8356-2dd13f83483e",
   "metadata": {},
   "outputs": [],
   "source": [
    "import numpy as np"
   ]
  },
  {
   "cell_type": "code",
   "execution_count": 3,
   "id": "c27a8339-a052-402e-939b-50beb6630fd4",
   "metadata": {},
   "outputs": [],
   "source": [
    "line_len = len(str(input[0]))"
   ]
  },
  {
   "cell_type": "code",
   "execution_count": 4,
   "id": "3c88a0cb-64c4-4385-8592-a528a79e68fd",
   "metadata": {},
   "outputs": [],
   "source": [
    "lists = []"
   ]
  },
  {
   "cell_type": "code",
   "execution_count": 5,
   "id": "47ba6144-883f-4856-81b2-ad405eb124dd",
   "metadata": {},
   "outputs": [],
   "source": [
    "for line in input:\n",
    "    lists.append(np.asarray([int(s) for s in line]))"
   ]
  },
  {
   "cell_type": "code",
   "execution_count": 6,
   "id": "0c43ff23-f27a-4098-a65b-452907a3d44d",
   "metadata": {},
   "outputs": [],
   "source": [
    "data_array = np.asarray(lists)"
   ]
  },
  {
   "cell_type": "code",
   "execution_count": 7,
   "id": "3a5c0777-0947-48a4-96e0-2347d647e0ec",
   "metadata": {},
   "outputs": [
    {
     "name": "stdout",
     "output_type": "stream",
     "text": [
      "0\n"
     ]
    }
   ],
   "source": [
    "counts = np.bincount(data_array[:, 0])\n",
    "print(np.argmax(counts))"
   ]
  },
  {
   "cell_type": "code",
   "execution_count": 8,
   "id": "e2c8c3d4-cb94-4bdf-89ba-dc6435f9d0c2",
   "metadata": {},
   "outputs": [],
   "source": [
    "def most_common(arr, epsilon=False):\n",
    "    counts = np.bincount(arr)\n",
    "    most_common = np.argmax(counts)\n",
    "    if epsilon:\n",
    "        if most_common == 0:\n",
    "            most_common = 1\n",
    "        else:\n",
    "            most_common = 0\n",
    "\n",
    "    return str(most_common)"
   ]
  },
  {
   "cell_type": "code",
   "execution_count": 9,
   "id": "1cb20ddf-29e6-4bbe-baa2-4084d8ec7a65",
   "metadata": {},
   "outputs": [],
   "source": [
    "gamma = ''\n",
    "epsilon = ''\n",
    "\n",
    "for i in range(len(input[0])):\n",
    "    gamma += most_common(data_array[:, i])\n",
    "    epsilon += most_common(data_array[:, i], epsilon=True)"
   ]
  },
  {
   "cell_type": "code",
   "execution_count": 10,
   "id": "2e8f5682-cdde-4de6-b61f-ae4f147d9e96",
   "metadata": {},
   "outputs": [
    {
     "data": {
      "text/plain": [
       "'010001110111'"
      ]
     },
     "execution_count": 10,
     "metadata": {},
     "output_type": "execute_result"
    }
   ],
   "source": [
    "gamma"
   ]
  },
  {
   "cell_type": "code",
   "execution_count": 11,
   "id": "75db12c3-99fe-4525-97e6-207b444125dd",
   "metadata": {},
   "outputs": [
    {
     "data": {
      "text/plain": [
       "'101110001000'"
      ]
     },
     "execution_count": 11,
     "metadata": {},
     "output_type": "execute_result"
    }
   ],
   "source": [
    "epsilon"
   ]
  },
  {
   "cell_type": "code",
   "execution_count": 12,
   "id": "bc20cd98-ab0a-485f-9dc3-9b6df5866988",
   "metadata": {},
   "outputs": [
    {
     "data": {
      "text/plain": [
       "3374136"
      ]
     },
     "execution_count": 12,
     "metadata": {},
     "output_type": "execute_result"
    }
   ],
   "source": [
    "int(gamma, 2) * int(epsilon, 2)"
   ]
  },
  {
   "cell_type": "markdown",
   "id": "401c2e0a-d0bb-42d3-8b86-3dac76ea79cc",
   "metadata": {},
   "source": [
    "## Part 2"
   ]
  },
  {
   "cell_type": "code",
   "execution_count": 13,
   "id": "1d8b19a8-c1a7-40db-9526-ce91daab1f01",
   "metadata": {},
   "outputs": [],
   "source": [
    "import pandas as pd"
   ]
  },
  {
   "cell_type": "code",
   "execution_count": 14,
   "id": "b3f7fe07-7838-4e20-b689-f3b92fb7c338",
   "metadata": {},
   "outputs": [],
   "source": [
    "df = pd.DataFrame(data_array)"
   ]
  },
  {
   "cell_type": "code",
   "execution_count": 15,
   "id": "9775d02c-4670-4878-9afe-21ffea738978",
   "metadata": {},
   "outputs": [],
   "source": [
    "cols = [chr(col + 97) for col in df.columns]"
   ]
  },
  {
   "cell_type": "code",
   "execution_count": 16,
   "id": "22048d39-d953-4371-bfe6-c4c68aee8a1e",
   "metadata": {},
   "outputs": [],
   "source": [
    "df.columns = cols"
   ]
  },
  {
   "cell_type": "code",
   "execution_count": 17,
   "id": "86ff4d1d-0822-47d2-81ec-663d16d2ab7e",
   "metadata": {},
   "outputs": [],
   "source": [
    "def most_common(series, c02=False):\n",
    "    if len(series.value_counts()) == 1:\n",
    "        num = series.value_counts().index[0]\n",
    "    \n",
    "    elif series.value_counts().loc[0] == series.value_counts().loc[1]:\n",
    "        num = 1\n",
    "    \n",
    "    else:\n",
    "        num = series.value_counts().index[0]\n",
    "    \n",
    "    if c02:\n",
    "        if num == 1:\n",
    "            num = 0\n",
    "        else:\n",
    "            num = 1\n",
    "\n",
    "    return num"
   ]
  },
  {
   "cell_type": "code",
   "execution_count": 18,
   "id": "dec80dae-fdfb-4da0-9f37-66e6fe07c8af",
   "metadata": {},
   "outputs": [],
   "source": [
    "def keep_common(df_orig, c02=False):\n",
    "    df = df_orig.copy()\n",
    "    \n",
    "    for col in df:\n",
    "        \n",
    "        if df.shape[0] == 1:\n",
    "            return df\n",
    "        \n",
    "        most_common_num = most_common(df[col], c02=c02)\n",
    "        \n",
    "        df = df[df[col] == most_common_num]\n",
    "    \n",
    "    return df"
   ]
  },
  {
   "cell_type": "code",
   "execution_count": 19,
   "id": "9f1b3885-241b-4047-96a4-c4aed61350d1",
   "metadata": {},
   "outputs": [
    {
     "data": {
      "text/html": [
       "<div>\n",
       "<style scoped>\n",
       "    .dataframe tbody tr th:only-of-type {\n",
       "        vertical-align: middle;\n",
       "    }\n",
       "\n",
       "    .dataframe tbody tr th {\n",
       "        vertical-align: top;\n",
       "    }\n",
       "\n",
       "    .dataframe thead th {\n",
       "        text-align: right;\n",
       "    }\n",
       "</style>\n",
       "<table border=\"1\" class=\"dataframe\">\n",
       "  <thead>\n",
       "    <tr style=\"text-align: right;\">\n",
       "      <th></th>\n",
       "      <th>a</th>\n",
       "      <th>b</th>\n",
       "      <th>c</th>\n",
       "      <th>d</th>\n",
       "      <th>e</th>\n",
       "      <th>f</th>\n",
       "      <th>g</th>\n",
       "      <th>h</th>\n",
       "      <th>i</th>\n",
       "      <th>j</th>\n",
       "      <th>k</th>\n",
       "      <th>l</th>\n",
       "    </tr>\n",
       "  </thead>\n",
       "  <tbody>\n",
       "    <tr>\n",
       "      <th>793</th>\n",
       "      <td>0</td>\n",
       "      <td>1</td>\n",
       "      <td>1</td>\n",
       "      <td>1</td>\n",
       "      <td>0</td>\n",
       "      <td>1</td>\n",
       "      <td>1</td>\n",
       "      <td>1</td>\n",
       "      <td>0</td>\n",
       "      <td>1</td>\n",
       "      <td>0</td>\n",
       "      <td>1</td>\n",
       "    </tr>\n",
       "  </tbody>\n",
       "</table>\n",
       "</div>"
      ],
      "text/plain": [
       "     a  b  c  d  e  f  g  h  i  j  k  l\n",
       "793  0  1  1  1  0  1  1  1  0  1  0  1"
      ]
     },
     "execution_count": 19,
     "metadata": {},
     "output_type": "execute_result"
    }
   ],
   "source": [
    "keep_common(df)"
   ]
  },
  {
   "cell_type": "code",
   "execution_count": 20,
   "id": "ff233a16-66b4-4047-b738-9017df78acbb",
   "metadata": {},
   "outputs": [
    {
     "data": {
      "text/html": [
       "<div>\n",
       "<style scoped>\n",
       "    .dataframe tbody tr th:only-of-type {\n",
       "        vertical-align: middle;\n",
       "    }\n",
       "\n",
       "    .dataframe tbody tr th {\n",
       "        vertical-align: top;\n",
       "    }\n",
       "\n",
       "    .dataframe thead th {\n",
       "        text-align: right;\n",
       "    }\n",
       "</style>\n",
       "<table border=\"1\" class=\"dataframe\">\n",
       "  <thead>\n",
       "    <tr style=\"text-align: right;\">\n",
       "      <th></th>\n",
       "      <th>a</th>\n",
       "      <th>b</th>\n",
       "      <th>c</th>\n",
       "      <th>d</th>\n",
       "      <th>e</th>\n",
       "      <th>f</th>\n",
       "      <th>g</th>\n",
       "      <th>h</th>\n",
       "      <th>i</th>\n",
       "      <th>j</th>\n",
       "      <th>k</th>\n",
       "      <th>l</th>\n",
       "    </tr>\n",
       "  </thead>\n",
       "  <tbody>\n",
       "    <tr>\n",
       "      <th>517</th>\n",
       "      <td>1</td>\n",
       "      <td>0</td>\n",
       "      <td>0</td>\n",
       "      <td>1</td>\n",
       "      <td>0</td>\n",
       "      <td>0</td>\n",
       "      <td>0</td>\n",
       "      <td>1</td>\n",
       "      <td>0</td>\n",
       "      <td>0</td>\n",
       "      <td>1</td>\n",
       "      <td>0</td>\n",
       "    </tr>\n",
       "  </tbody>\n",
       "</table>\n",
       "</div>"
      ],
      "text/plain": [
       "     a  b  c  d  e  f  g  h  i  j  k  l\n",
       "517  1  0  0  1  0  0  0  1  0  0  1  0"
      ]
     },
     "execution_count": 20,
     "metadata": {},
     "output_type": "execute_result"
    }
   ],
   "source": [
    "keep_common(df, c02=True)"
   ]
  },
  {
   "cell_type": "code",
   "execution_count": 21,
   "id": "84a70940-6343-4168-8376-54054bc4ed0f",
   "metadata": {},
   "outputs": [],
   "source": [
    "oxygen = ''\n",
    "\n",
    "for s in keep_common(df).to_numpy()[0]:\n",
    "    oxygen += str(s)"
   ]
  },
  {
   "cell_type": "code",
   "execution_count": 22,
   "id": "421a47a8-cceb-428e-895b-f660a1371e99",
   "metadata": {},
   "outputs": [
    {
     "data": {
      "text/plain": [
       "'011101110101'"
      ]
     },
     "execution_count": 22,
     "metadata": {},
     "output_type": "execute_result"
    }
   ],
   "source": [
    "oxygen"
   ]
  },
  {
   "cell_type": "code",
   "execution_count": 23,
   "id": "7861c7b1-b36b-4ce0-aa64-fe0a30c0ebdd",
   "metadata": {},
   "outputs": [],
   "source": [
    "carbon = ''\n",
    "\n",
    "for s in keep_common(df, c02=True).to_numpy()[0]:\n",
    "    carbon += str(s)"
   ]
  },
  {
   "cell_type": "code",
   "execution_count": 24,
   "id": "c741a589-d26f-41ad-a416-1babb11f875a",
   "metadata": {},
   "outputs": [
    {
     "data": {
      "text/plain": [
       "'100100010010'"
      ]
     },
     "execution_count": 24,
     "metadata": {},
     "output_type": "execute_result"
    }
   ],
   "source": [
    "carbon"
   ]
  },
  {
   "cell_type": "code",
   "execution_count": 25,
   "id": "ef6ea9a6-0967-4a90-b375-3e9001b0b0a5",
   "metadata": {},
   "outputs": [
    {
     "data": {
      "text/plain": [
       "4432698"
      ]
     },
     "execution_count": 25,
     "metadata": {},
     "output_type": "execute_result"
    }
   ],
   "source": [
    "int(oxygen, 2) * int(carbon, 2)"
   ]
  }
 ],
 "metadata": {
  "kernelspec": {
   "display_name": "Python 3",
   "language": "python",
   "name": "python3"
  },
  "language_info": {
   "codemirror_mode": {
    "name": "ipython",
    "version": 3
   },
   "file_extension": ".py",
   "mimetype": "text/x-python",
   "name": "python",
   "nbconvert_exporter": "python",
   "pygments_lexer": "ipython3",
   "version": "3.8.8"
  }
 },
 "nbformat": 4,
 "nbformat_minor": 5
}
