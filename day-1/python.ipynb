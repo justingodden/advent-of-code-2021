{
 "cells": [
  {
   "cell_type": "markdown",
   "id": "435542e0-2181-4ca0-b8e9-c02efd1c5786",
   "metadata": {},
   "source": [
    "## Part 1"
   ]
  },
  {
   "cell_type": "code",
   "execution_count": 12,
   "id": "3d5dc6fb-0053-4ae5-980b-408aaaea1c35",
   "metadata": {},
   "outputs": [],
   "source": [
    "with open(\"input.txt\", \"r\") as f:\n",
    "    input = [int(i) for i in f.read().split()]"
   ]
  },
  {
   "cell_type": "code",
   "execution_count": 14,
   "id": "55719cdc-126d-416f-b6e4-99b0ae8260e8",
   "metadata": {},
   "outputs": [],
   "source": [
    "count = 0\n",
    "\n",
    "for i, num in enumerate(input):\n",
    "    if i == 0:\n",
    "        continue\n",
    "    elif num > input[i-1]:\n",
    "        count += 1"
   ]
  },
  {
   "cell_type": "code",
   "execution_count": 15,
   "id": "194ce6de-3cdc-43fc-b3e8-a6448e2e4654",
   "metadata": {},
   "outputs": [
    {
     "data": {
      "text/plain": [
       "1564"
      ]
     },
     "execution_count": 15,
     "metadata": {},
     "output_type": "execute_result"
    }
   ],
   "source": [
    "count"
   ]
  },
  {
   "cell_type": "markdown",
   "id": "63fc5fe2-c0de-403c-b96e-e66f9c43d395",
   "metadata": {},
   "source": [
    "## Part 2"
   ]
  },
  {
   "cell_type": "code",
   "execution_count": 23,
   "id": "79436995-6151-40cd-9cc0-59b1b87547b8",
   "metadata": {},
   "outputs": [],
   "source": [
    "count = 0\n",
    "\n",
    "for i, _ in enumerate(input):\n",
    "    if i in [0, 1, 2]:\n",
    "        continue\n",
    "    elif input[i] + input[i-1] + input[i-2]  > input[i-1] + input[i-2] + input[i-3]:\n",
    "        count += 1"
   ]
  },
  {
   "cell_type": "code",
   "execution_count": 24,
   "id": "53307918-b179-49be-8f01-fa387ad97551",
   "metadata": {},
   "outputs": [
    {
     "data": {
      "text/plain": [
       "1611"
      ]
     },
     "execution_count": 24,
     "metadata": {},
     "output_type": "execute_result"
    }
   ],
   "source": [
    "count"
   ]
  }
 ],
 "metadata": {
  "kernelspec": {
   "display_name": "Python 3",
   "language": "python",
   "name": "python3"
  },
  "language_info": {
   "codemirror_mode": {
    "name": "ipython",
    "version": 3
   },
   "file_extension": ".py",
   "mimetype": "text/x-python",
   "name": "python",
   "nbconvert_exporter": "python",
   "pygments_lexer": "ipython3",
   "version": "3.8.8"
  }
 },
 "nbformat": 4,
 "nbformat_minor": 5
}
